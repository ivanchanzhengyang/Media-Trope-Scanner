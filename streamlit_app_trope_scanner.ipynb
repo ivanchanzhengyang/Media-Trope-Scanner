{
 "cells": [
  {
   "cell_type": "code",
   "execution_count": 1,
   "id": "11990e09",
   "metadata": {},
   "outputs": [],
   "source": [
    "#importing scripts\n",
    "\n",
    "import streamlit as st\n",
    "from bs4 import BeautifulSoup\n",
    "import requests"
   ]
  },
  {
   "cell_type": "code",
   "execution_count": 2,
   "id": "806b13a0",
   "metadata": {},
   "outputs": [
    {
     "name": "stderr",
     "output_type": "stream",
     "text": [
      "2023-11-09 00:14:58.276 \n",
      "  \u001b[33m\u001b[1mWarning:\u001b[0m to view this Streamlit app on a browser, run it with the following\n",
      "  command:\n",
      "\n",
      "    streamlit run C:\\ProgramData\\anaconda3\\Lib\\site-packages\\ipykernel_launcher.py [ARGUMENTS]\n"
     ]
    }
   ],
   "source": [
    "# Function to scrape TV Tropes for trope information\n",
    "def scrape_tvtropes(trope_name):\n",
    "    url = f\"https://tvtropes.org/pmwiki/pmwiki.php/Main/{trope_name}\"\n",
    "    page = requests.get(url)\n",
    "    soup = BeautifulSoup(page.content, \"html.parser\")\n",
    "    trope_description = soup.find(\"div\", class_=\"page-content\").text\n",
    "    return trope_description\n",
    "\n",
    "# Streamlit app\n",
    "st.title(\"Trope Scanner\")\n",
    "\n",
    "trope_name = st.text_input(\"Enter a trope name:\")\n",
    "if trope_name:\n",
    "    try:\n",
    "        trope_description = scrape_tvtropes(trope_name)\n",
    "        st.write(\"Trope Description:\")\n",
    "        st.write(trope_description)\n",
    "    except:\n",
    "        st.error(\"Trope not found. Please enter a valid trope name.\")"
   ]
  }
 ],
 "metadata": {
  "kernelspec": {
   "display_name": "Python 3 (ipykernel)",
   "language": "python",
   "name": "python3"
  },
  "language_info": {
   "codemirror_mode": {
    "name": "ipython",
    "version": 3
   },
   "file_extension": ".py",
   "mimetype": "text/x-python",
   "name": "python",
   "nbconvert_exporter": "python",
   "pygments_lexer": "ipython3",
   "version": "3.11.5"
  }
 },
 "nbformat": 4,
 "nbformat_minor": 5
}
