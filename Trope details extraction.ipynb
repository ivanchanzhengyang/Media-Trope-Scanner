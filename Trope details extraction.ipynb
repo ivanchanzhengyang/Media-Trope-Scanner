{
 "cells": [
  {
   "cell_type": "code",
   "execution_count": 1,
   "id": "3dc158ca",
   "metadata": {},
   "outputs": [],
   "source": [
    "# Import basic libraries\n",
    "import pandas as pd\n",
    "import numpy as np"
   ]
  },
  {
   "cell_type": "code",
   "execution_count": 2,
   "id": "31ac7d3e",
   "metadata": {},
   "outputs": [],
   "source": [
    "# Import scraping libraries\n",
    "import requests\n",
    "from bs4 import BeautifulSoup"
   ]
  },
  {
   "cell_type": "code",
   "execution_count": 3,
   "id": "ae502109",
   "metadata": {},
   "outputs": [],
   "source": [
    "# Import regex\n",
    "import re\n",
    "import string"
   ]
  },
  {
   "cell_type": "code",
   "execution_count": 4,
   "id": "e269b499",
   "metadata": {},
   "outputs": [],
   "source": [
    "# Import visualisation libraries\n",
    "import matplotlib.pyplot as plt\n",
    "from matplotlib_venn import venn2\n",
    "import seaborn as sns"
   ]
  },
  {
   "cell_type": "code",
   "execution_count": 13,
   "id": "ae7ab590",
   "metadata": {},
   "outputs": [],
   "source": [
    "#browser-based scripts\n",
    "from selenium import webdriver\n",
    "from selenium.webdriver.common.by import By\n",
    "from bs4 import BeautifulSoup\n",
    "import time"
   ]
  },
  {
   "cell_type": "code",
   "execution_count": 6,
   "id": "2b13c33a",
   "metadata": {},
   "outputs": [],
   "source": [
    "# some display adjustments to account for the fact that we have many columns\n",
    "# and some columns contain many characters\n",
    "\n",
    "np.set_printoptions(threshold=np.inf)\n",
    "pd.set_option('display.max_colwidth', None)\n",
    "pd.set_option('display.max_columns', None)\n",
    "pd.set_option('display.max_rows', 800)"
   ]
  },
  {
   "cell_type": "code",
   "execution_count": 7,
   "id": "54a292d1",
   "metadata": {},
   "outputs": [],
   "source": [
    "# base tvtropes url\n",
    "tvt_url = 'https://tvtropes.org'"
   ]
  },
  {
   "cell_type": "code",
   "execution_count": 9,
   "id": "c3f859fa",
   "metadata": {},
   "outputs": [],
   "source": [
    "tropes_selected = ['Aint Too Proud to Beg', 'Healthy in Heaven', 'Be Yourself', 'Vacation Episode', 'Lighter and Softer', 'Weird Moon', 'Everyone Has Standards', 'Hypocrite', 'OutofCharacter Moment', 'Red Right Hand']"
   ]
  },
  {
   "cell_type": "code",
   "execution_count": 10,
   "id": "78553e2c",
   "metadata": {},
   "outputs": [
    {
     "name": "stdout",
     "output_type": "stream",
     "text": [
      "['AintTooProudtoBeg', 'HealthyinHeaven', 'BeYourself', 'VacationEpisode', 'LighterandSofter', 'WeirdMoon', 'EveryoneHasStandards', 'Hypocrite', 'OutofCharacterMoment', 'RedRightHand']\n"
     ]
    }
   ],
   "source": [
    "tropes_for_url = [trope.replace(' ', '') for trope in tropes_selected]\n",
    "\n",
    "print(tropes_for_url)"
   ]
  },
  {
   "cell_type": "code",
   "execution_count": 8,
   "id": "1161bee9",
   "metadata": {},
   "outputs": [],
   "source": [
    "# base trope url\n",
    "\n",
    "trope_url = 'https://tvtropes.org/pmwiki/pmwiki.php/Main/'"
   ]
  },
  {
   "cell_type": "code",
   "execution_count": 15,
   "id": "5f0f8326",
   "metadata": {},
   "outputs": [],
   "source": [
    "# Initialize the Chrome WebDriver\n",
    "driver = webdriver.Chrome()\n",
    "\n",
    "# Define the URL to test\n",
    "url_to_test = 'https://tvtropes.org/pmwiki/pmwiki.php/Main/AintTooProudtoBeg'\n",
    "\n",
    "# Navigate to the URL\n",
    "driver.get(url_to_test)\n",
    "\n",
    "# Add a time delay to allow the page to load (adjust as needed)\n",
    "# You can increase or decrease the sleep duration depending on the page load time\n",
    "time.sleep(2)\n",
    "\n",
    "# Close the browser session\n",
    "driver.quit()"
   ]
  },
  {
   "cell_type": "code",
   "execution_count": 20,
   "id": "d1d8224a",
   "metadata": {},
   "outputs": [
    {
     "name": "stdout",
     "output_type": "stream",
     "text": [
      "AintTooProudtoBegAintTooProudtoBeg\n",
      "AintTooProudtoBegHealthyinHeaven\n",
      "AintTooProudtoBegBeYourself\n",
      "AintTooProudtoBegVacationEpisode\n",
      "AintTooProudtoBegLighterandSofter\n",
      "AintTooProudtoBegWeirdMoon\n",
      "AintTooProudtoBegEveryoneHasStandards\n",
      "AintTooProudtoBegHypocrite\n",
      "AintTooProudtoBegOutofCharacterMoment\n",
      "AintTooProudtoBegRedRightHand\n"
     ]
    }
   ],
   "source": [
    "for trope in tropes_for_url:\n",
    "    complete_url = trope_url + trope\n",
    "    print(complete_url)"
   ]
  },
  {
   "cell_type": "code",
   "execution_count": 14,
   "id": "dfe43309",
   "metadata": {},
   "outputs": [
    {
     "ename": "InvalidArgumentException",
     "evalue": "Message: invalid argument\n  (Session info: chrome=119.0.6045.105)\nStacktrace:\n\tGetHandleVerifier [0x00007FF7B80182B2+55298]\n\t(No symbol) [0x00007FF7B7F85E02]\n\t(No symbol) [0x00007FF7B7E4045D]\n\t(No symbol) [0x00007FF7B7E2EEDC]\n\t(No symbol) [0x00007FF7B7E2D041]\n\t(No symbol) [0x00007FF7B7E2D803]\n\t(No symbol) [0x00007FF7B7E429BF]\n\t(No symbol) [0x00007FF7B7EBAE27]\n\t(No symbol) [0x00007FF7B7EA20AA]\n\t(No symbol) [0x00007FF7B7EBAAA4]\n\t(No symbol) [0x00007FF7B7EA1E83]\n\t(No symbol) [0x00007FF7B7E7670A]\n\t(No symbol) [0x00007FF7B7E77964]\n\tGetHandleVerifier [0x00007FF7B8390AAB+3694587]\n\tGetHandleVerifier [0x00007FF7B83E728E+4048862]\n\tGetHandleVerifier [0x00007FF7B83DF173+4015811]\n\tGetHandleVerifier [0x00007FF7B80B47D6+695590]\n\t(No symbol) [0x00007FF7B7F90CE8]\n\t(No symbol) [0x00007FF7B7F8CF34]\n\t(No symbol) [0x00007FF7B7F8D062]\n\t(No symbol) [0x00007FF7B7F7D3A3]\n\tBaseThreadInitThunk [0x00007FF9B5E6257D+29]\n\tRtlUserThreadStart [0x00007FF9B7F6AA78+40]\n",
     "output_type": "error",
     "traceback": [
      "\u001b[1;31m---------------------------------------------------------------------------\u001b[0m",
      "\u001b[1;31mInvalidArgumentException\u001b[0m                  Traceback (most recent call last)",
      "Cell \u001b[1;32mIn[14], line 13\u001b[0m\n\u001b[0;32m     10\u001b[0m trope_full_url \u001b[38;5;241m=\u001b[39m trope_url \u001b[38;5;241m+\u001b[39m trope_name\n\u001b[0;32m     12\u001b[0m \u001b[38;5;66;03m# Navigate to the trope URL\u001b[39;00m\n\u001b[1;32m---> 13\u001b[0m driver\u001b[38;5;241m.\u001b[39mget(trope_full_url)\n\u001b[0;32m     15\u001b[0m \u001b[38;5;66;03m# Add a time delay to allow the page to load (adjust as needed)\u001b[39;00m\n\u001b[0;32m     16\u001b[0m time\u001b[38;5;241m.\u001b[39msleep(\u001b[38;5;241m2\u001b[39m)\n",
      "File \u001b[1;32m~\\AppData\\Roaming\\Python\\Python311\\site-packages\\selenium\\webdriver\\remote\\webdriver.py:353\u001b[0m, in \u001b[0;36mWebDriver.get\u001b[1;34m(self, url)\u001b[0m\n\u001b[0;32m    351\u001b[0m \u001b[38;5;28;01mdef\u001b[39;00m \u001b[38;5;21mget\u001b[39m(\u001b[38;5;28mself\u001b[39m, url: \u001b[38;5;28mstr\u001b[39m) \u001b[38;5;241m-\u001b[39m\u001b[38;5;241m>\u001b[39m \u001b[38;5;28;01mNone\u001b[39;00m:\n\u001b[0;32m    352\u001b[0m \u001b[38;5;250m    \u001b[39m\u001b[38;5;124;03m\"\"\"Loads a web page in the current browser session.\"\"\"\u001b[39;00m\n\u001b[1;32m--> 353\u001b[0m     \u001b[38;5;28mself\u001b[39m\u001b[38;5;241m.\u001b[39mexecute(Command\u001b[38;5;241m.\u001b[39mGET, {\u001b[38;5;124m\"\u001b[39m\u001b[38;5;124murl\u001b[39m\u001b[38;5;124m\"\u001b[39m: url})\n",
      "File \u001b[1;32m~\\AppData\\Roaming\\Python\\Python311\\site-packages\\selenium\\webdriver\\remote\\webdriver.py:344\u001b[0m, in \u001b[0;36mWebDriver.execute\u001b[1;34m(self, driver_command, params)\u001b[0m\n\u001b[0;32m    342\u001b[0m response \u001b[38;5;241m=\u001b[39m \u001b[38;5;28mself\u001b[39m\u001b[38;5;241m.\u001b[39mcommand_executor\u001b[38;5;241m.\u001b[39mexecute(driver_command, params)\n\u001b[0;32m    343\u001b[0m \u001b[38;5;28;01mif\u001b[39;00m response:\n\u001b[1;32m--> 344\u001b[0m     \u001b[38;5;28mself\u001b[39m\u001b[38;5;241m.\u001b[39merror_handler\u001b[38;5;241m.\u001b[39mcheck_response(response)\n\u001b[0;32m    345\u001b[0m     response[\u001b[38;5;124m\"\u001b[39m\u001b[38;5;124mvalue\u001b[39m\u001b[38;5;124m\"\u001b[39m] \u001b[38;5;241m=\u001b[39m \u001b[38;5;28mself\u001b[39m\u001b[38;5;241m.\u001b[39m_unwrap_value(response\u001b[38;5;241m.\u001b[39mget(\u001b[38;5;124m\"\u001b[39m\u001b[38;5;124mvalue\u001b[39m\u001b[38;5;124m\"\u001b[39m, \u001b[38;5;28;01mNone\u001b[39;00m))\n\u001b[0;32m    346\u001b[0m     \u001b[38;5;28;01mreturn\u001b[39;00m response\n",
      "File \u001b[1;32m~\\AppData\\Roaming\\Python\\Python311\\site-packages\\selenium\\webdriver\\remote\\errorhandler.py:229\u001b[0m, in \u001b[0;36mErrorHandler.check_response\u001b[1;34m(self, response)\u001b[0m\n\u001b[0;32m    227\u001b[0m         alert_text \u001b[38;5;241m=\u001b[39m value[\u001b[38;5;124m\"\u001b[39m\u001b[38;5;124malert\u001b[39m\u001b[38;5;124m\"\u001b[39m]\u001b[38;5;241m.\u001b[39mget(\u001b[38;5;124m\"\u001b[39m\u001b[38;5;124mtext\u001b[39m\u001b[38;5;124m\"\u001b[39m)\n\u001b[0;32m    228\u001b[0m     \u001b[38;5;28;01mraise\u001b[39;00m exception_class(message, screen, stacktrace, alert_text)  \u001b[38;5;66;03m# type: ignore[call-arg]  # mypy is not smart enough here\u001b[39;00m\n\u001b[1;32m--> 229\u001b[0m \u001b[38;5;28;01mraise\u001b[39;00m exception_class(message, screen, stacktrace)\n",
      "\u001b[1;31mInvalidArgumentException\u001b[0m: Message: invalid argument\n  (Session info: chrome=119.0.6045.105)\nStacktrace:\n\tGetHandleVerifier [0x00007FF7B80182B2+55298]\n\t(No symbol) [0x00007FF7B7F85E02]\n\t(No symbol) [0x00007FF7B7E4045D]\n\t(No symbol) [0x00007FF7B7E2EEDC]\n\t(No symbol) [0x00007FF7B7E2D041]\n\t(No symbol) [0x00007FF7B7E2D803]\n\t(No symbol) [0x00007FF7B7E429BF]\n\t(No symbol) [0x00007FF7B7EBAE27]\n\t(No symbol) [0x00007FF7B7EA20AA]\n\t(No symbol) [0x00007FF7B7EBAAA4]\n\t(No symbol) [0x00007FF7B7EA1E83]\n\t(No symbol) [0x00007FF7B7E7670A]\n\t(No symbol) [0x00007FF7B7E77964]\n\tGetHandleVerifier [0x00007FF7B8390AAB+3694587]\n\tGetHandleVerifier [0x00007FF7B83E728E+4048862]\n\tGetHandleVerifier [0x00007FF7B83DF173+4015811]\n\tGetHandleVerifier [0x00007FF7B80B47D6+695590]\n\t(No symbol) [0x00007FF7B7F90CE8]\n\t(No symbol) [0x00007FF7B7F8CF34]\n\t(No symbol) [0x00007FF7B7F8D062]\n\t(No symbol) [0x00007FF7B7F7D3A3]\n\tBaseThreadInitThunk [0x00007FF9B5E6257D+29]\n\tRtlUserThreadStart [0x00007FF9B7F6AA78+40]\n"
     ]
    }
   ],
   "source": [
    "# Initialize the Chrome WebDriver\n",
    "driver = webdriver.Chrome()\n",
    "\n",
    "# Initialize a list to store the data from each trope page\n",
    "all_seasons_data = []\n",
    "\n",
    "# Loop through the trope URLs and names\n",
    "for trope_name in tropes_for_url:\n",
    "    # Construct the complete trope URL\n",
    "    trope_full_url = trope_url + trope_name\n",
    "\n",
    "    # Navigate to the trope URL\n",
    "    driver.get(trope_full_url)\n",
    "\n",
    "    # Add a time delay to allow the page to load (adjust as needed)\n",
    "    time.sleep(2)\n",
    "    \n",
    "    # Scroll once to get past the ad\n",
    "    bottom_element = driver.find_element(By.CSS_SELECTOR, 'div.folderlabel.toggle-all-folders-button')\n",
    "    bottom_element.location_once_scrolled_into_view\n",
    "\n",
    "    # Use Selenium to click on the 'open/close all folders' button\n",
    "    driver.find_element(By.CSS_SELECTOR, 'div.folderlabel.toggle-all-folders-button').click()\n",
    "\n",
    "    # Use BeautifulSoup to parse the page using the 'lxml' library\n",
    "    soup = BeautifulSoup(driver.page_source, 'lxml')\n",
    "\n",
    "    # Extract and store data from this trope page (modify this part to capture the data you need)\n",
    "    # For example:\n",
    "    seasons = soup.find_all('div', class_='folder')\n",
    "    all_seasons_data.append(seasons)\n",
    "\n",
    "# Close the browser session\n",
    "driver.quit()"
   ]
  }
 ],
 "metadata": {
  "kernelspec": {
   "display_name": "Python 3 (ipykernel)",
   "language": "python",
   "name": "python3"
  },
  "language_info": {
   "codemirror_mode": {
    "name": "ipython",
    "version": 3
   },
   "file_extension": ".py",
   "mimetype": "text/x-python",
   "name": "python",
   "nbconvert_exporter": "python",
   "pygments_lexer": "ipython3",
   "version": "3.11.5"
  }
 },
 "nbformat": 4,
 "nbformat_minor": 5
}
