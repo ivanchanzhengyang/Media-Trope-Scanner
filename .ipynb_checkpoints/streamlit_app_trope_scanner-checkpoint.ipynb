{
 "cells": [
  {
   "cell_type": "code",
   "execution_count": 3,
   "id": "11990e09",
   "metadata": {},
   "outputs": [],
   "source": [
    "#importing scripts\n",
    "\n",
    "import streamlit as st\n",
    "from bs4 import BeautifulSoup\n",
    "import requests"
   ]
  },
  {
   "cell_type": "code",
   "execution_count": 4,
   "id": "806b13a0",
   "metadata": {},
   "outputs": [],
   "source": [
    "# Function to scrape TV Tropes for trope information\n",
    "def scrape_tvtropes(trope_name):\n",
    "    base_url = \"https://tvtropes.org/pmwiki/pmwiki.php/Main/\"\n",
    "    url = base_url + trope_name\n",
    "\n",
    "    try:\n",
    "        page = requests.get(url)\n",
    "        page.raise_for_status()\n",
    "        soup = BeautifulSoup(page.content, \"html.parser\")\n",
    "        trope_description = soup.find(\"div\", class_=\"page-content\").text\n",
    "        return trope_description\n",
    "    except requests.exceptions.HTTPError as e:\n",
    "        st.error(f\"HTTP error: {e}\")\n",
    "    except Exception as e:\n",
    "        st.error(f\"An error occurred: {e}\")\n",
    "\n",
    "# Streamlit app\n",
    "st.title(\"Trope Scanner\")\n",
    "\n",
    "trope_name = st.text_input(\"Enter a trope name:\")\n",
    "if trope_name:\n",
    "    trope_description = scrape_tvtropes(trope_name)\n",
    "    if trope_description:\n",
    "        st.write(\"Trope Description:\")\n",
    "        st.write(trope_description)\n",
    "    else:\n",
    "        st.warning(\"Trope not found. Please enter a valid trope name.\")"
   ]
  }
 ],
 "metadata": {
  "kernelspec": {
   "display_name": "Python 3 (ipykernel)",
   "language": "python",
   "name": "python3"
  },
  "language_info": {
   "codemirror_mode": {
    "name": "ipython",
    "version": 3
   },
   "file_extension": ".py",
   "mimetype": "text/x-python",
   "name": "python",
   "nbconvert_exporter": "python",
   "pygments_lexer": "ipython3",
   "version": "3.11.5"
  }
 },
 "nbformat": 4,
 "nbformat_minor": 5
}
